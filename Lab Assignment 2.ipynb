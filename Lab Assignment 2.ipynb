{
 "cells": [
  {
   "cell_type": "markdown",
   "id": "e7d25d02",
   "metadata": {},
   "source": [
    "# Question 1"
   ]
  },
  {
   "cell_type": "code",
   "execution_count": 9,
   "id": "643ec8af",
   "metadata": {},
   "outputs": [
    {
     "name": "stdout",
     "output_type": "stream",
     "text": [
      "is positive\n"
     ]
    }
   ],
   "source": [
    "number= 9\n",
    "if number>=0:\n",
    "    print(\"is positive\")\n",
    "elif number<=0:\n",
    "    print(\"is negative\")\n",
    "else:\n",
    "    print(\"is zero\")"
   ]
  },
  {
   "cell_type": "markdown",
   "id": "04d754a9",
   "metadata": {},
   "source": [
    "# Question 2"
   ]
  },
  {
   "cell_type": "code",
   "execution_count": 10,
   "id": "4ad7bd41",
   "metadata": {},
   "outputs": [
    {
     "name": "stdout",
     "output_type": "stream",
     "text": [
      "This is a leap year\n"
     ]
    }
   ],
   "source": [
    "year= 366\n",
    "if year ==366:\n",
    "    print(\"This is a leap year\")\n",
    "elif year <365:\n",
    "    print(\"This is not a leap year\")\n",
    "else:\n",
    "    print(\"invalid\")"
   ]
  },
  {
   "cell_type": "markdown",
   "id": "04453f4f",
   "metadata": {},
   "source": [
    "# Question 3"
   ]
  },
  {
   "cell_type": "code",
   "execution_count": 18,
   "id": "8f98f35f",
   "metadata": {},
   "outputs": [
    {
     "name": "stdout",
     "output_type": "stream",
     "text": [
      "Grade:F\n"
     ]
    }
   ],
   "source": [
    "obtained_marks = 49\n",
    "if obtained_marks >= 85:\n",
    "    print(\"Grade:A\")\n",
    "elif obtained_marks >= 70:\n",
    "    print(\"Grade:B\")\n",
    "elif obtained_marks >= 50:\n",
    "    print(\"Grade:C\")\n",
    "else:\n",
    "    print(\"Grade:F\")"
   ]
  }
 ],
 "metadata": {
  "kernelspec": {
   "display_name": "Python 3 (ipykernel)",
   "language": "python",
   "name": "python3"
  },
  "language_info": {
   "codemirror_mode": {
    "name": "ipython",
    "version": 3
   },
   "file_extension": ".py",
   "mimetype": "text/x-python",
   "name": "python",
   "nbconvert_exporter": "python",
   "pygments_lexer": "ipython3",
   "version": "3.11.5"
  }
 },
 "nbformat": 4,
 "nbformat_minor": 5
}
